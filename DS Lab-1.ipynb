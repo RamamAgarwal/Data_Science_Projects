{
 "cells": [
  {
   "cell_type": "markdown",
   "id": "9b25b8f2",
   "metadata": {},
   "source": [
    "## Problem 2 : One pass Max and Min computation \n",
    "Given an unsorted array of 10 numbers, find both the maximum and minimum numbers in a single pass through the array. DO NOT Use ANY Built-in SORT function."
   ]
  },
  {
   "cell_type": "code",
   "execution_count": 1,
   "id": "c512806c",
   "metadata": {},
   "outputs": [
    {
     "name": "stdout",
     "output_type": "stream",
     "text": [
      "Max Number in array =  21\n",
      "Min Number in array =  2\n"
     ]
    }
   ],
   "source": [
    "def findMaxAndMin(array):\n",
    "    maxNum = array[0]\n",
    "    minNum = array[0]\n",
    "\n",
    "    for num in array:\n",
    "        if num > maxNum:\n",
    "            maxNum = num\n",
    "        elif num < minNum:\n",
    "            minNum = num\n",
    "    return maxNum, minNum\n",
    "\n",
    "\n",
    "inputArray = [21, 3, 9, 15, 6, 19, 7, 2, 18, 5]\n",
    "maxValue, minValue = findMaxAndMin(inputArray)\n",
    "print(\"Max Number in array = \", maxValue)\n",
    "print(\"Min Number in array = \", minValue)"
   ]
  },
  {
   "cell_type": "markdown",
   "id": "fb9fdaa4",
   "metadata": {},
   "source": [
    "## ChatGPT"
   ]
  },
  {
   "cell_type": "code",
   "execution_count": 2,
   "id": "73fce66e",
   "metadata": {},
   "outputs": [
    {
     "name": "stdout",
     "output_type": "stream",
     "text": [
      "Maximum value: 9, Minimum value: 0\n"
     ]
    }
   ],
   "source": [
    "def find_max_and_min(arr):\n",
    "    # Ensure the array has at least one element\n",
    "    if not arr:\n",
    "        raise ValueError(\"Array must have at least one element.\")\n",
    "    \n",
    "    # Initialize max and min to the first element\n",
    "    max_val = arr[0]\n",
    "    min_val = arr[0]\n",
    "    \n",
    "    # Iterate through the array starting from the second element\n",
    "    for num in arr[1:]:\n",
    "        if num > max_val:\n",
    "            max_val = num\n",
    "        elif num < min_val:\n",
    "            min_val = num\n",
    "            \n",
    "    return max_val, min_val\n",
    "\n",
    "# Example usage\n",
    "arr = [3, 9, 2, 7, 5, 1, 8, 6, 4, 0]\n",
    "max_val, min_val = find_max_and_min(arr)\n",
    "print(f\"Maximum value: {max_val}, Minimum value: {min_val}\")\n"
   ]
  },
  {
   "cell_type": "markdown",
   "id": "535513fc",
   "metadata": {},
   "source": [
    "## Problem 3: Count the Number of Even and Odd Elements\n",
    "Given an unsorted array of 10 numbers, count the number of even and odd elements in the array without using any built-in functions like count()\n"
   ]
  },
  {
   "cell_type": "code",
   "execution_count": 7,
   "id": "fd04caba",
   "metadata": {},
   "outputs": [
    {
     "name": "stdout",
     "output_type": "stream",
     "text": [
      "Even elements: 4\n",
      "Odd elements: 6\n"
     ]
    }
   ],
   "source": [
    "def findCountOfEvenAndOdd(arr):\n",
    "    evenCount = 0\n",
    "    oddCount = 0\n",
    "\n",
    "    for num in arr:\n",
    "        if num % 2 == 0:\n",
    "            evenCount += 1\n",
    "        else:\n",
    "            oddCount += 1\n",
    "    return evenCount, oddCount\n",
    "\n",
    "array = [2, 3, 9, 10, 6, 15, 7, 2, 7, 5]\n",
    "evenCount, oddCount = findCountOfEvenAndOdd(array)\n",
    "print(\"Even elements:\", evenCount)\n",
    "print(\"Odd elements:\", oddCount)"
   ]
  },
  {
   "cell_type": "markdown",
   "id": "b9e57c1e",
   "metadata": {},
   "source": [
    "## ChatGPT"
   ]
  },
  {
   "cell_type": "code",
   "execution_count": 8,
   "id": "231c33c5",
   "metadata": {},
   "outputs": [
    {
     "name": "stdout",
     "output_type": "stream",
     "text": [
      "Even numbers count: 5\n",
      "Odd numbers count: 5\n"
     ]
    }
   ],
   "source": [
    "# Initialize the array\n",
    "array = [12, 7, 5, 19, 8, 24, 3, 16, 11, 2]\n",
    "\n",
    "# Initialize counters for even and odd numbers\n",
    "even_count = 0\n",
    "odd_count = 0\n",
    "\n",
    "# Iterate through the array\n",
    "for num in array:\n",
    "    # Check if the number is even\n",
    "    if num % 2 == 0:\n",
    "        even_count += 1\n",
    "    else:\n",
    "        odd_count += 1\n",
    "\n",
    "# Output the result\n",
    "print(f\"Even numbers count: {even_count}\")\n",
    "print(f\"Odd numbers count: {odd_count}\")\n"
   ]
  },
  {
   "cell_type": "markdown",
   "id": "0b0e8430",
   "metadata": {},
   "source": [
    "## Problem 4: Yoda Style Sentence Reconstruction\n",
    "Given any sentence as a string, reverse the two halves of the string. (ignore punctuation)\n",
    "Example:  \n",
    "Input: \"I am studying Data Science\"\n",
    "Output: \"Data Science I am studying\"\n",
    "Hint : if the sentence contain n = even words mid point = n/2 else mid pt = (n+1)/2 \n"
   ]
  },
  {
   "cell_type": "code",
   "execution_count": 9,
   "id": "db7cbf68",
   "metadata": {},
   "outputs": [
    {
     "name": "stdout",
     "output_type": "stream",
     "text": [
      "Data Science I am studying\n"
     ]
    }
   ],
   "source": [
    "inputSentence = \"I am studying Data Science\"\n",
    "words = inputSentence.split()\n",
    "n = len(words)\n",
    "midpoint = n // 2 if n % 2 == 0 else (n + 1) // 2\n",
    "yodaStyleSentence = words[midpoint:] + words[:midpoint]\n",
    "outputSentence = \" \".join(yodaStyleSentence)\n",
    "print(outputSentence)"
   ]
  },
  {
   "cell_type": "markdown",
   "id": "6e7c6022",
   "metadata": {},
   "source": [
    "## ChatGPT"
   ]
  },
  {
   "cell_type": "code",
   "execution_count": 10,
   "id": "2f0940b0",
   "metadata": {},
   "outputs": [
    {
     "name": "stdout",
     "output_type": "stream",
     "text": [
      "Data Science I am studying\n"
     ]
    }
   ],
   "source": [
    "def yoda_style(sentence):\n",
    "    # Split the sentence into words\n",
    "    words = sentence.split()\n",
    "    \n",
    "    # Find the midpoint\n",
    "    n = len(words)\n",
    "    if n % 2 == 0:\n",
    "        mid = n // 2\n",
    "    else:\n",
    "        mid = (n + 1) // 2\n",
    "    \n",
    "    # Split the sentence into two halves\n",
    "    first_half = words[:mid]\n",
    "    second_half = words[mid:]\n",
    "    \n",
    "    # Reverse the halves\n",
    "    yoda_sentence = second_half + first_half\n",
    "    \n",
    "    # Join the words back into a sentence\n",
    "    return ' '.join(yoda_sentence)\n",
    "\n",
    "# Test the function with the example input\n",
    "sentence = \"I am studying Data Science\"\n",
    "yoda_sentence = yoda_style(sentence)\n",
    "print(yoda_sentence)  # Output: \"Data Science I am studying\"\n"
   ]
  },
  {
   "cell_type": "markdown",
   "id": "ec54b575",
   "metadata": {},
   "source": [
    "## Problem 1 : BMI Calculator \n",
    "•\tDownload and load the dataset from https://www.kaggle.com/datasets/burnoutminer/heights-and-weights-dataset\n",
    "•\tConvert the height to cms and weight to kilograms. Calculate the BMI of each person and create a new column in the dataset.\n",
    "•\tAdd a column for categories underweight, normal, overweight and obese based on the categories available on https://www.betterhealth.vic.gov.au/tools/body-mass-index-calculator-for-adult.\n",
    "•\tDisplay the dataframe post the computed columns addition \n",
    "(Do a df.head(n=10))\n",
    "•\tReturn the number of people who are underweight, normal, overweight and obese.\n",
    "(This can be some simple print commands ) "
   ]
  },
  {
   "cell_type": "code",
   "execution_count": 16,
   "id": "1a9567dd",
   "metadata": {},
   "outputs": [
    {
     "name": "stdout",
     "output_type": "stream",
     "text": [
      "First 10 rows of the dataset with BMI and Category:\n",
      "   Index  Height(Inches)  Weight(Pounds)  Height(cm)  Weight(kg)        BMI  \\\n",
      "0      1        65.78331        112.9925  167.089607   51.253398  18.357933   \n",
      "1      2        71.51521        136.4873  181.648633   61.910639  18.762946   \n",
      "2      3        69.39874        153.0269  176.272800   69.413002  22.339334   \n",
      "3      4        68.21660        142.3354  173.270164   64.563337  21.504948   \n",
      "4      5        67.78781        144.2971  172.181037   65.453165  22.078014   \n",
      "5      6        68.69784        123.3024  174.492514   55.929969  18.369231   \n",
      "6      7        69.80204        141.4947  177.297182   64.181996  20.417829   \n",
      "7      8        70.01472        136.4623  177.837389   61.899299  19.572197   \n",
      "8      9        67.90265        112.3723  172.472731   50.972075  17.135289   \n",
      "9     10        66.78236        120.6672  169.627194   54.734642  19.022663   \n",
      "\n",
      "    BMI Category  \n",
      "0    Underweight  \n",
      "1  Normal weight  \n",
      "2  Normal weight  \n",
      "3  Normal weight  \n",
      "4  Normal weight  \n",
      "5    Underweight  \n",
      "6  Normal weight  \n",
      "7  Normal weight  \n",
      "8    Underweight  \n",
      "9  Normal weight  \n",
      "\n",
      "Number of people in each BMI category:\n",
      "BMI Category\n",
      "Normal weight    17553\n",
      "Underweight       7441\n",
      "Overweight           6\n",
      "Name: count, dtype: int64\n"
     ]
    }
   ],
   "source": [
    "import pandas as pd\n",
    "df = pd.read_csv('SOCR-HeightWeight.csv')\n",
    "df['Height(cm)'] = df['Height(Inches)'] * 2.54\n",
    "df['Weight(kg)'] = df['Weight(Pounds)'] * 0.4536\n",
    "df['BMI'] = df['Weight(kg)'] / (df['Height(cm)'] / 100) ** 2\n",
    "def categorize_bmi(bmi):\n",
    "    if bmi < 18.5:\n",
    "        return 'Underweight'\n",
    "    elif 18.5 <= bmi < 24.9:\n",
    "        return 'Normal weight'\n",
    "    elif 25 <= bmi < 29.9:\n",
    "        return 'Overweight'\n",
    "    else:\n",
    "        return 'Obese'\n",
    "    \n",
    "df['BMI Category'] = df['BMI'].apply(categorize_bmi)\n",
    "print(\"First 10 rows of the dataset with BMI and Category:\")\n",
    "print(df.head(10))\n",
    "\n",
    "# Count the number of people in each BMI category\n",
    "bmi_counts = df['BMI Category'].value_counts()\n",
    "print(\"\\nNumber of people in each BMI category:\")\n",
    "print(bmi_counts)"
   ]
  }
 ],
 "metadata": {
  "kernelspec": {
   "display_name": "Python 3 (ipykernel)",
   "language": "python",
   "name": "python3"
  },
  "language_info": {
   "codemirror_mode": {
    "name": "ipython",
    "version": 3
   },
   "file_extension": ".py",
   "mimetype": "text/x-python",
   "name": "python",
   "nbconvert_exporter": "python",
   "pygments_lexer": "ipython3",
   "version": "3.11.5"
  }
 },
 "nbformat": 4,
 "nbformat_minor": 5
}
