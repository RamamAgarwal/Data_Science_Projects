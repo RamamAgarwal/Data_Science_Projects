{
 "cells": [
  {
   "cell_type": "markdown",
   "id": "27509734",
   "metadata": {},
   "source": [
    "## Q.1"
   ]
  },
  {
   "cell_type": "code",
   "execution_count": 1,
   "id": "7e4d7f41",
   "metadata": {},
   "outputs": [
    {
     "name": "stdout",
     "output_type": "stream",
     "text": [
      "The movie with the highest rating is: The Shawshank Redemption\n",
      "The average rating of movies released in 1994 is: 9.000000000000002\n",
      "There are 3 unique genres in the dataset.\n",
      "The genre with the highest average rating is: Crime\n",
      "The top 3 movies by rating are:\n",
      "                      Title  Year  Rating  Genre  Age  Classics\n",
      "0  The Shawshank Redemption  1994     9.3  Drama   30      True\n",
      "6             The Godfather  1972     9.2  Crime   52      True\n",
      "2              Pulp Fiction  1994     8.9  Crime   30      True\n"
     ]
    }
   ],
   "source": [
    "import pandas as pd\n",
    "import csv\n",
    "\n",
    "data = {\n",
    "    \"Title\": [\"The Shawshank Redemption\", \"Inception\", \"Pulp Fiction\", \"The Matrix\", \"Forrest Gump\", \"Interstellar\", \"The Godfather\"],\n",
    "    \"Year\": [1994, 2010, 1994, 1999, 1994, 2014, 1972],\n",
    "    \"Rating\": [9.3, 8.8, 8.9, 8.7, 8.8, 8.6, 9.2],\n",
    "    \"Genre\": [\"Drama\", \"Sci-Fi\", \"Crime\", \"Sci-Fi\", \"Drama\", \"Sci-Fi\", \"Crime\"]\n",
    "}\n",
    "\n",
    "with open('movies.csv', 'w', newline='') as file:\n",
    "    writer = csv.writer(file)\n",
    "    writer.writerow([\"Title\", \"Year\", \"Rating\", \"Genre\"])\n",
    "    writer.writerows(zip(data[\"Title\"], data[\"Year\"], data[\"Rating\"], data[\"Genre\"]))\n",
    "\n",
    "df = pd.read_csv('movies.csv')\n",
    "\n",
    "print(\"The movie with the highest rating is:\", df.loc[df['Rating'].idxmax()]['Title'])\n",
    "\n",
    "print(\"The average rating of movies released in 1994 is:\", df[df['Year'] == 1994]['Rating'].mean())\n",
    "\n",
    "print(\"There are\", df['Genre'].nunique(), \"unique genres in the dataset.\")\n",
    "\n",
    "import datetime\n",
    "current_year = datetime.datetime.now().year\n",
    "df['Age'] = current_year - df['Year']\n",
    "\n",
    "print(\"The genre with the highest average rating is:\", df.groupby('Genre')['Rating'].mean().idxmax())\n",
    "\n",
    "df['Classics'] = df['Age'] > 25\n",
    "\n",
    "print(\"The top 3 movies by rating are:\")\n",
    "print(df.sort_values('Rating', ascending=False).head(3))"
   ]
  },
  {
   "cell_type": "code",
   "execution_count": 10,
   "id": "945e6f28",
   "metadata": {},
   "outputs": [
    {
     "data": {
      "text/html": [
       "<div>\n",
       "<style scoped>\n",
       "    .dataframe tbody tr th:only-of-type {\n",
       "        vertical-align: middle;\n",
       "    }\n",
       "\n",
       "    .dataframe tbody tr th {\n",
       "        vertical-align: top;\n",
       "    }\n",
       "\n",
       "    .dataframe thead th {\n",
       "        text-align: right;\n",
       "    }\n",
       "</style>\n",
       "<table border=\"1\" class=\"dataframe\">\n",
       "  <thead>\n",
       "    <tr style=\"text-align: right;\">\n",
       "      <th></th>\n",
       "      <th>Title</th>\n",
       "      <th>Year</th>\n",
       "      <th>Rating</th>\n",
       "      <th>Genre</th>\n",
       "      <th>Age</th>\n",
       "      <th>Classics</th>\n",
       "    </tr>\n",
       "  </thead>\n",
       "  <tbody>\n",
       "    <tr>\n",
       "      <th>0</th>\n",
       "      <td>The Shawshank Redemption</td>\n",
       "      <td>1994</td>\n",
       "      <td>9.3</td>\n",
       "      <td>Drama</td>\n",
       "      <td>30</td>\n",
       "      <td>True</td>\n",
       "    </tr>\n",
       "    <tr>\n",
       "      <th>1</th>\n",
       "      <td>Inception</td>\n",
       "      <td>2010</td>\n",
       "      <td>8.8</td>\n",
       "      <td>Sci-Fi</td>\n",
       "      <td>14</td>\n",
       "      <td>False</td>\n",
       "    </tr>\n",
       "    <tr>\n",
       "      <th>2</th>\n",
       "      <td>Pulp Fiction</td>\n",
       "      <td>1994</td>\n",
       "      <td>8.9</td>\n",
       "      <td>Crime</td>\n",
       "      <td>30</td>\n",
       "      <td>True</td>\n",
       "    </tr>\n",
       "    <tr>\n",
       "      <th>3</th>\n",
       "      <td>The Matrix</td>\n",
       "      <td>1999</td>\n",
       "      <td>8.7</td>\n",
       "      <td>Sci-Fi</td>\n",
       "      <td>25</td>\n",
       "      <td>False</td>\n",
       "    </tr>\n",
       "    <tr>\n",
       "      <th>4</th>\n",
       "      <td>Forrest Gump</td>\n",
       "      <td>1994</td>\n",
       "      <td>8.8</td>\n",
       "      <td>Drama</td>\n",
       "      <td>30</td>\n",
       "      <td>True</td>\n",
       "    </tr>\n",
       "    <tr>\n",
       "      <th>5</th>\n",
       "      <td>Interstellar</td>\n",
       "      <td>2014</td>\n",
       "      <td>8.6</td>\n",
       "      <td>Sci-Fi</td>\n",
       "      <td>10</td>\n",
       "      <td>False</td>\n",
       "    </tr>\n",
       "    <tr>\n",
       "      <th>6</th>\n",
       "      <td>The Godfather</td>\n",
       "      <td>1972</td>\n",
       "      <td>9.2</td>\n",
       "      <td>Crime</td>\n",
       "      <td>52</td>\n",
       "      <td>True</td>\n",
       "    </tr>\n",
       "  </tbody>\n",
       "</table>\n",
       "</div>"
      ],
      "text/plain": [
       "                      Title  Year  Rating   Genre  Age  Classics\n",
       "0  The Shawshank Redemption  1994     9.3   Drama   30      True\n",
       "1                 Inception  2010     8.8  Sci-Fi   14     False\n",
       "2              Pulp Fiction  1994     8.9   Crime   30      True\n",
       "3                The Matrix  1999     8.7  Sci-Fi   25     False\n",
       "4              Forrest Gump  1994     8.8   Drama   30      True\n",
       "5              Interstellar  2014     8.6  Sci-Fi   10     False\n",
       "6             The Godfather  1972     9.2   Crime   52      True"
      ]
     },
     "execution_count": 10,
     "metadata": {},
     "output_type": "execute_result"
    }
   ],
   "source": [
    "df"
   ]
  },
  {
   "cell_type": "markdown",
   "id": "f0fa46da",
   "metadata": {},
   "source": [
    "## Q.2"
   ]
  },
  {
   "cell_type": "code",
   "execution_count": 2,
   "id": "6633627a",
   "metadata": {},
   "outputs": [
    {
     "name": "stdout",
     "output_type": "stream",
     "text": [
      "ok google\n",
      "{'ok': 1, 'google': 1}\n"
     ]
    }
   ],
   "source": [
    "import string\n",
    "def convert(s):\n",
    "    dct={}\n",
    "    ls=[]\n",
    "    clean_text = s.translate(str.maketrans('', '', string.punctuation)).lower()\n",
    "    for word in clean_text.split():\n",
    "        if word in dct:\n",
    "            dct[word]+=1\n",
    "        else:\n",
    "            dct[word]=1\n",
    "    return dct\n",
    "\n",
    "s=input()\n",
    "dt=convert(s)\n",
    "print(dt)"
   ]
  },
  {
   "cell_type": "markdown",
   "id": "29db9346",
   "metadata": {},
   "source": [
    "## Q.3"
   ]
  },
  {
   "cell_type": "code",
   "execution_count": 11,
   "id": "2ec6fcde",
   "metadata": {},
   "outputs": [
    {
     "name": "stdout",
     "output_type": "stream",
     "text": [
      "['1984', 'Pride and Prejudice', 'The Great Gatsby']\n",
      "{'To Kill a Mockingbird': 281, '1984': 328, 'Pride and Prejudice': 432, 'The Catcher in the Rye': 234, 'The Great Gatsby': 180}\n"
     ]
    }
   ],
   "source": [
    "books = [\n",
    "    {\"title\": \"To Kill a Mockingbird\", \"author\": \"Harper Lee\", \"year\": 1960, \"pages\": 281},\n",
    "    {\"title\": \"1984\", \"author\": \"George Orwell\", \"year\": 1949, \"pages\": 328},\n",
    "    {\"title\": \"Pride and Prejudice\", \"author\": \"Jane Austen\", \"year\": 1813, \"pages\": 432},\n",
    "    {\"title\": \"The Catcher in the Rye\", \"author\": \"J.D. Salinger\", \"year\": 1951, \"pages\": 234},\n",
    "    {\"title\": \"The Great Gatsby\", \"author\": \"F. Scott Fitzgerald\", \"year\": 1925, \"pages\": 180}\n",
    "]\n",
    "ls=[book[\"title\"] for book in books if book[\"year\"] < 1950]\n",
    "print(ls)\n",
    "dct={book[\"title\"]:book[\"pages\"] for book in books}\n",
    "print(dct)\n",
    "def func(books,pg_count):\n",
    "    return [book for book in books if book[\"pages\"] > pg_count]"
   ]
  },
  {
   "cell_type": "markdown",
   "id": "a0735944",
   "metadata": {},
   "source": [
    "## Q.4"
   ]
  },
  {
   "cell_type": "code",
   "execution_count": 4,
   "id": "85e296ad",
   "metadata": {},
   "outputs": [
    {
     "name": "stdout",
     "output_type": "stream",
     "text": [
      "1 4 3 7 9 2\n",
      "2\n"
     ]
    }
   ],
   "source": [
    "ls=list(map(int,input().split()))\n",
    "count=0\n",
    "for i in ls:\n",
    "        if i%2==0:\n",
    "            count+=1\n",
    "print(count)"
   ]
  },
  {
   "cell_type": "markdown",
   "id": "6eed110d",
   "metadata": {},
   "source": [
    "## Q.1 (ChatGPT)"
   ]
  },
  {
   "cell_type": "code",
   "execution_count": 5,
   "id": "99d30794",
   "metadata": {},
   "outputs": [
    {
     "name": "stdout",
     "output_type": "stream",
     "text": [
      "a) Movie with the highest rating: The Shawshank Redemption\n",
      "b) Average rating of movies released in 1994: 9.000000000000002\n",
      "c) Number of unique genres: 3\n",
      "d) DataFrame with 'Age' column added:\n",
      "                       Title  Year  Rating   Genre  Age  Classics\n",
      "0  The Shawshank Redemption  1994     9.3   Drama   30      True\n",
      "1                 Inception  2010     8.8  Sci-Fi   14     False\n",
      "2              Pulp Fiction  1994     8.9   Crime   30      True\n",
      "3                The Matrix  1999     8.7  Sci-Fi   25     False\n",
      "4              Forrest Gump  1994     8.8   Drama   30      True\n",
      "5              Interstellar  2014     8.6  Sci-Fi   10     False\n",
      "6             The Godfather  1972     9.2   Crime   52      True\n",
      "e) Genre with the highest average rating: Crime\n",
      "f) DataFrame with 'Classics' column added:\n",
      "                       Title  Year  Rating   Genre  Age  Classics\n",
      "0  The Shawshank Redemption  1994     9.3   Drama   30      True\n",
      "1                 Inception  2010     8.8  Sci-Fi   14     False\n",
      "2              Pulp Fiction  1994     8.9   Crime   30      True\n",
      "3                The Matrix  1999     8.7  Sci-Fi   25     False\n",
      "4              Forrest Gump  1994     8.8   Drama   30      True\n",
      "5              Interstellar  2014     8.6  Sci-Fi   10     False\n",
      "6             The Godfather  1972     9.2   Crime   52      True\n",
      "g) Top 3 movies sorted by rating:\n",
      "                       Title  Year  Rating  Genre  Age  Classics\n",
      "0  The Shawshank Redemption  1994     9.3  Drama   30      True\n",
      "6             The Godfather  1972     9.2  Crime   52      True\n",
      "2              Pulp Fiction  1994     8.9  Crime   30      True\n"
     ]
    }
   ],
   "source": [
    "import pandas as pd\n",
    "\n",
    "# Create a DataFrame with the given data\n",
    "data = {\n",
    "    \"Title\": [\n",
    "        \"The Shawshank Redemption\", \"Inception\", \"Pulp Fiction\", \n",
    "        \"The Matrix\", \"Forrest Gump\", \"Interstellar\", \"The Godfather\"\n",
    "    ],\n",
    "    \"Year\": [1994, 2010, 1994, 1999, 1994, 2014, 1972],\n",
    "    \"Rating\": [9.3, 8.8, 8.9, 8.7, 8.8, 8.6, 9.2],\n",
    "    \"Genre\": [\"Drama\", \"Sci-Fi\", \"Crime\", \"Sci-Fi\", \"Drama\", \"Sci-Fi\", \"Crime\"]\n",
    "}\n",
    "\n",
    "df = pd.DataFrame(data)\n",
    "\n",
    "# Save the DataFrame to a CSV file\n",
    "df.to_csv('movies.csv', index=False)\n",
    "\n",
    "# Read the CSV file\n",
    "df = pd.read_csv('movies.csv')\n",
    "\n",
    "# a) Which movie has the highest rating?\n",
    "highest_rated_movie = df[df['Rating'] == df['Rating'].max()]['Title'].iloc[0]\n",
    "\n",
    "# b) What is the average rating of movies released in 1994?\n",
    "average_rating_1994 = df[df['Year'] == 1994]['Rating'].mean()\n",
    "\n",
    "# c) How many unique genres are there in the dataset?\n",
    "unique_genres = df['Genre'].nunique()\n",
    "\n",
    "# d) Create a new column 'Age' that shows how old the movie is (current year - release year).\n",
    "current_year = 2024\n",
    "df['Age'] = current_year - df['Year']\n",
    "\n",
    "# e) Which genre has the highest average rating?\n",
    "highest_avg_rating_genre = df.groupby('Genre')['Rating'].mean().idxmax()\n",
    "\n",
    "# f) Create a 'Classics' column: True if the movie is older than 25 years, False otherwise.\n",
    "df['Classics'] = df['Age'] > 25\n",
    "\n",
    "# g) Sort the dataframe by rating in descending order and display the top 3 movies.\n",
    "top_3_movies = df.sort_values(by='Rating', ascending=False).head(3)\n",
    "\n",
    "# Output the results\n",
    "print(\"a) Movie with the highest rating:\", highest_rated_movie)\n",
    "print(\"b) Average rating of movies released in 1994:\", average_rating_1994)\n",
    "print(\"c) Number of unique genres:\", unique_genres)\n",
    "print(\"d) DataFrame with 'Age' column added:\\n\", df)\n",
    "print(\"e) Genre with the highest average rating:\", highest_avg_rating_genre)\n",
    "print(\"f) DataFrame with 'Classics' column added:\\n\", df)\n",
    "print(\"g) Top 3 movies sorted by rating:\\n\", top_3_movies)"
   ]
  },
  {
   "cell_type": "markdown",
   "id": "5d85ac0c",
   "metadata": {},
   "source": [
    "## Q.2 (ChatGPT)"
   ]
  },
  {
   "cell_type": "code",
   "execution_count": 7,
   "id": "4c8bdc86",
   "metadata": {},
   "outputs": [
    {
     "name": "stdout",
     "output_type": "stream",
     "text": [
      "{'the': 3, 'quick': 1, 'brown': 1, 'fox': 1, 'jumps': 1, 'over': 1, 'lazy': 1, 'dog': 2, 'barks': 1}\n"
     ]
    }
   ],
   "source": [
    "import re\n",
    "from collections import Counter\n",
    "\n",
    "def word_frequency(s):\n",
    "    # Remove punctuation and convert to lowercase\n",
    "    s = re.sub(r'[^\\w\\s]', '', s).lower()\n",
    "    \n",
    "    # Split the string into words\n",
    "    words = s.split()\n",
    "    \n",
    "    # Count the frequency of each word\n",
    "    freq = Counter(words)\n",
    "    \n",
    "    return dict(freq)\n",
    "input_string = \"The quick brown fox jumps over the lazy dog. The dog barks.\"\n",
    "output = word_frequency(input_string)\n",
    "print(output)"
   ]
  },
  {
   "cell_type": "markdown",
   "id": "b5824a6e",
   "metadata": {},
   "source": [
    "## Q.3 (ChatGPT)"
   ]
  },
  {
   "cell_type": "code",
   "execution_count": 8,
   "id": "b0154c6b",
   "metadata": {},
   "outputs": [
    {
     "name": "stdout",
     "output_type": "stream",
     "text": [
      "['1984', 'Pride and Prejudice', 'The Great Gatsby']\n",
      "{'To Kill a Mockingbird': 281, '1984': 328, 'Pride and Prejudice': 432, 'The Catcher in the Rye': 234, 'The Great Gatsby': 180}\n",
      "[{'title': '1984', 'author': 'George Orwell', 'year': 1949, 'pages': 328}, {'title': 'Pride and Prejudice', 'author': 'Jane Austen', 'year': 1813, 'pages': 432}]\n"
     ]
    }
   ],
   "source": [
    "titles_before_1950 = [book[\"title\"] for book in books if book[\"year\"] < 1950]\n",
    "print(titles_before_1950)\n",
    "\n",
    "title_pages = {book[\"title\"]: book[\"pages\"] for book in books}\n",
    "print(title_pages)\n",
    "\n",
    "def books_with_min_pages(books, min_pages):\n",
    "    return [book for book in books if book[\"pages\"] > min_pages]\n",
    "print(books_with_min_pages(books, 300))"
   ]
  },
  {
   "cell_type": "markdown",
   "id": "386c0303",
   "metadata": {},
   "source": [
    "## Q.4 (ChatGPT)"
   ]
  },
  {
   "cell_type": "code",
   "execution_count": 9,
   "id": "03b62d9c",
   "metadata": {},
   "outputs": [
    {
     "name": "stdout",
     "output_type": "stream",
     "text": [
      "3\n"
     ]
    }
   ],
   "source": [
    "#ChatGPT Q.4\n",
    "def count_even_elements(arr):\n",
    "    even_count = 0\n",
    "    for num in arr:\n",
    "        if num % 2 == 0:\n",
    "            even_count += 1\n",
    "    return even_count\n",
    "\n",
    "# Example usage:\n",
    "arr = [3, 1, 4, 1, 5, 9, 2, 6, 5, 3]\n",
    "print(count_even_elements(arr)) "
   ]
  }
 ],
 "metadata": {
  "kernelspec": {
   "display_name": "Python 3 (ipykernel)",
   "language": "python",
   "name": "python3"
  },
  "language_info": {
   "codemirror_mode": {
    "name": "ipython",
    "version": 3
   },
   "file_extension": ".py",
   "mimetype": "text/x-python",
   "name": "python",
   "nbconvert_exporter": "python",
   "pygments_lexer": "ipython3",
   "version": "3.11.5"
  }
 },
 "nbformat": 4,
 "nbformat_minor": 5
}
