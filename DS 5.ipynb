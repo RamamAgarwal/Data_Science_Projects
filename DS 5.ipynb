{
 "cells": [
  {
   "cell_type": "code",
   "execution_count": 23,
   "id": "4101b695",
   "metadata": {},
   "outputs": [],
   "source": [
    "import pandas as pd\n",
    "df=pd.read_csv('Lab_5_India_Statewise_Power_Infrastructure_Data_RBI.csv')"
   ]
  },
  {
   "cell_type": "markdown",
   "id": "f7dc72b3",
   "metadata": {},
   "source": [
    "## Preliminary Data Cleaning"
   ]
  },
  {
   "cell_type": "code",
   "execution_count": 24,
   "id": "b171dc64",
   "metadata": {},
   "outputs": [
    {
     "name": "stdout",
     "output_type": "stream",
     "text": [
      "Column Entries:\n",
      " Index(['State/Union Territory', 'Year', 'Power_Requirement_Net_Crore_Units',\n",
      "       'Availability_Of_Power_Net_Crore_Units',\n",
      "       'Availability_Of_Power_Per_Capita_kiloWatt-Hour',\n",
      "       'Installed_Power_Capacity_MegaWatt'],\n",
      "      dtype='object')\n"
     ]
    }
   ],
   "source": [
    "print(\"Column Entries:\\n\",df.columns)"
   ]
  },
  {
   "cell_type": "code",
   "execution_count": 25,
   "id": "c878def3",
   "metadata": {},
   "outputs": [
    {
     "name": "stdout",
     "output_type": "stream",
     "text": [
      "Missing values \n",
      " State/Union Territory                             0\n",
      "Year                                              0\n",
      "Power_Requirement_Net_Crore_Units                 0\n",
      "Availability_Of_Power_Net_Crore_Units             0\n",
      "Availability_Of_Power_Per_Capita_kiloWatt-Hour    0\n",
      "Installed_Power_Capacity_MegaWatt                 0\n",
      "dtype: int64\n"
     ]
    }
   ],
   "source": [
    "print(\"Missing values \\n\",df.isnull().sum())"
   ]
  },
  {
   "cell_type": "code",
   "execution_count": 26,
   "id": "d5163416",
   "metadata": {},
   "outputs": [
    {
     "name": "stdout",
     "output_type": "stream",
     "text": [
      "Duplicate entries:\n",
      " 0\n"
     ]
    }
   ],
   "source": [
    "print(\"Duplicate entries:\\n\",df.duplicated().sum())"
   ]
  },
  {
   "cell_type": "code",
   "execution_count": 27,
   "id": "65a757cd",
   "metadata": {},
   "outputs": [],
   "source": [
    "numeric_columns = ['Power_Requirement_Net_Crore_Units', 'Availability_Of_Power_Net_Crore_Units', \n",
    "                   'Availability_Of_Power_Per_Capita_kiloWatt-Hour', 'Installed_Power_Capacity_MegaWatt']\n",
    "for col in numeric_columns:\n",
    "    if col in df.columns:\n",
    "        df[col] = pd.to_numeric(df[col], errors='coerce').fillna(0)"
   ]
  },
  {
   "cell_type": "markdown",
   "id": "0c6457ce",
   "metadata": {},
   "source": [
    "## Statistical Analysis"
   ]
  },
  {
   "cell_type": "code",
   "execution_count": 28,
   "id": "5101c260",
   "metadata": {},
   "outputs": [
    {
     "name": "stdout",
     "output_type": "stream",
     "text": [
      "Mean Power Requirement (2020-2021): 3484.9166666666665\n"
     ]
    }
   ],
   "source": [
    "mean_power_req = df[df['Year'] == '2020-21']['Power_Requirement_Net_Crore_Units'].mean()\n",
    "print(\"Mean Power Requirement (2020-2021):\", mean_power_req)"
   ]
  },
  {
   "cell_type": "code",
   "execution_count": 29,
   "id": "4e1f7f3a",
   "metadata": {},
   "outputs": [
    {
     "name": "stdout",
     "output_type": "stream",
     "text": [
      "Mean Installed Capacity for Maharastra: 30576.058823529413\n"
     ]
    }
   ],
   "source": [
    "tn_data = df[(df['State/Union Territory'] == 'Maharashtra') & (df['Year'].between('2004', '2021'))]\n",
    "mean_installed_capacity_tn = tn_data['Installed_Power_Capacity_MegaWatt'].mean()\n",
    "print(\"Mean Installed Capacity for Maharastra:\", mean_installed_capacity_tn)"
   ]
  },
  {
   "cell_type": "code",
   "execution_count": 30,
   "id": "ebc80e38",
   "metadata": {},
   "outputs": [],
   "source": [
    "def my_mean(data):\n",
    "    if len(data)==0:\n",
    "        return \n",
    "    total = sum(data)\n",
    "    return total / len(data)"
   ]
  },
  {
   "cell_type": "code",
   "execution_count": 31,
   "id": "bffdb4dd",
   "metadata": {},
   "outputs": [
    {
     "name": "stdout",
     "output_type": "stream",
     "text": [
      "Custom Mean Availability of Power Per Capita (2015-2016): 1690.5555555555552\n"
     ]
    }
   ],
   "source": [
    "data_2015_2016 = df[df['Year'] == '2015-16']['Availability_Of_Power_Per_Capita_kiloWatt-Hour']\n",
    "mean_custom = my_mean(data_2015_2016.dropna())\n",
    "print(\"Custom Mean Availability of Power Per Capita (2015-2016):\", mean_custom)"
   ]
  },
  {
   "cell_type": "code",
   "execution_count": 32,
   "id": "9f31558d",
   "metadata": {},
   "outputs": [
    {
     "name": "stdout",
     "output_type": "stream",
     "text": [
      "Custom Mean Power Availability for Gujarat (2010-2015): 8403.4\n"
     ]
    }
   ],
   "source": [
    "up_data = df[(df['State/Union Territory'] == 'Gujarat') & (df['Year'].between('2010', '2015'))]\n",
    "mean_availability_up = my_mean(up_data['Availability_Of_Power_Net_Crore_Units'].dropna())\n",
    "print(\"Custom Mean Power Availability for Gujarat (2010-2015):\", mean_availability_up)"
   ]
  },
  {
   "cell_type": "code",
   "execution_count": 33,
   "id": "ac4f13f1",
   "metadata": {},
   "outputs": [
    {
     "name": "stdout",
     "output_type": "stream",
     "text": [
      "Median of Installed Power Capacity (2018-2019): 3735.5\n"
     ]
    }
   ],
   "source": [
    "median_ins_power = df[df['Year']  == '2018-19']['Installed_Power_Capacity_MegaWatt'].median()\n",
    "print(\"Median of Installed Power Capacity (2018-2019):\", median_ins_power)"
   ]
  },
  {
   "cell_type": "code",
   "execution_count": 34,
   "id": "3dd694d1",
   "metadata": {},
   "outputs": [
    {
     "name": "stdout",
     "output_type": "stream",
     "text": [
      "Median of Power Per Capita kiloWatt-Hour (2009-2010): 608.7\n"
     ]
    }
   ],
   "source": [
    "median_ins_power = df[df['Year'] == '2009-10']['Availability_Of_Power_Per_Capita_kiloWatt-Hour'].median()\n",
    "print(\"Median of Power Per Capita kiloWatt-Hour (2009-2010):\", median_ins_power)"
   ]
  },
  {
   "cell_type": "code",
   "execution_count": 35,
   "id": "75357799",
   "metadata": {},
   "outputs": [],
   "source": [
    "def my_median(data):\n",
    "    sorted_data = sorted(data)\n",
    "    n = len(sorted_data)\n",
    "    middle = n // 2\n",
    "    if n % 2 == 0:\n",
    "        return (sorted_data[middle - 1] + sorted_data[middle]) / 2\n",
    "    else:\n",
    "        return sorted_data[middle]"
   ]
  },
  {
   "cell_type": "code",
   "execution_count": 36,
   "id": "7164526a",
   "metadata": {},
   "outputs": [
    {
     "name": "stdout",
     "output_type": "stream",
     "text": [
      "Custom Median Power Requirement (2012-2013): 1016.0\n"
     ]
    }
   ],
   "source": [
    "data_2012_2013 = df[df['Year'] == '2012-13']['Power_Requirement_Net_Crore_Units'].dropna()\n",
    "median_custom = my_median(data_2012_2013)\n",
    "print(\"Custom Median Power Requirement (2012-2013):\", median_custom)"
   ]
  },
  {
   "cell_type": "code",
   "execution_count": 37,
   "id": "a186366c",
   "metadata": {},
   "outputs": [
    {
     "name": "stdout",
     "output_type": "stream",
     "text": [
      "Custom Median Power Availability for Tamil Nadu (2005-2010): 6395.0\n"
     ]
    }
   ],
   "source": [
    "tn_data = df[(df['State/Union Territory'] == 'Tamil Nadu') & (df['Year'].between('2005', '2010'))]\n",
    "median_avail_tn = my_median(tn_data['Availability_Of_Power_Net_Crore_Units'].dropna())\n",
    "print(\"Custom Median Power Availability for Tamil Nadu (2005-2010):\", median_avail_tn)"
   ]
  },
  {
   "cell_type": "code",
   "execution_count": 38,
   "id": "2e373ecf",
   "metadata": {},
   "outputs": [
    {
     "name": "stdout",
     "output_type": "stream",
     "text": [
      "Mode Power Requirement (2017-2018): 80.0\n"
     ]
    }
   ],
   "source": [
    "mode_power_req_2017_2018 = df[df['Year'] == '2017-18']['Power_Requirement_Net_Crore_Units'].mode()[0]\n",
    "print(\"Mode Power Requirement (2017-2018):\", mode_power_req_2017_2018)"
   ]
  },
  {
   "cell_type": "code",
   "execution_count": 39,
   "id": "5b0c7ec7",
   "metadata": {},
   "outputs": [
    {
     "name": "stdout",
     "output_type": "stream",
     "text": [
      "Mode Power Per Capita for Karnataka (2004-2021): 637.4\n"
     ]
    }
   ],
   "source": [
    "karnataka_data = df[df['State/Union Territory'] == 'Karnataka']\n",
    "mode_avail_power_karnataka = karnataka_data['Availability_Of_Power_Per_Capita_kiloWatt-Hour'].mode()[0]\n",
    "print(\"Mode Power Per Capita for Karnataka (2004-2021):\", mode_avail_power_karnataka)"
   ]
  },
  {
   "cell_type": "code",
   "execution_count": 40,
   "id": "f0350cf9",
   "metadata": {},
   "outputs": [],
   "source": [
    "def my_mode(data):\n",
    "    data_list = list(data)\n",
    "    return max(set(data_list), key=data_list.count)"
   ]
  },
  {
   "cell_type": "code",
   "execution_count": 41,
   "id": "f18a99ae",
   "metadata": {},
   "outputs": [
    {
     "name": "stdout",
     "output_type": "stream",
     "text": [
      "Custom Mode Installed Power Capacity (2014-2015): 131.0\n"
     ]
    }
   ],
   "source": [
    "data_2014_2015 = df[df['Year'] == '2014-15']['Installed_Power_Capacity_MegaWatt'].dropna()\n",
    "mode_custom = my_mode(data_2014_2015)\n",
    "print(\"Custom Mode Installed Power Capacity (2014-2015):\", mode_custom)"
   ]
  },
  {
   "cell_type": "code",
   "execution_count": 45,
   "id": "03b6cc51",
   "metadata": {},
   "outputs": [
    {
     "name": "stdout",
     "output_type": "stream",
     "text": [
      "Custom Mode Power Requirement for West Bengal (2008-2012): 3648.0\n"
     ]
    }
   ],
   "source": [
    "wb_data = df[(df['State/Union Territory'] == 'West Bengal') & (df['Year'].between('2008', '2012'))]\n",
    "mode_power_req_wb = my_mode(wb_data['Power_Requirement_Net_Crore_Units'].dropna())\n",
    "print(\"Custom Mode Power Requirement for West Bengal (2008-2012):\", mode_power_req_wb)"
   ]
  },
  {
   "cell_type": "code",
   "execution_count": 46,
   "id": "41670d6a",
   "metadata": {},
   "outputs": [
    {
     "name": "stdout",
     "output_type": "stream",
     "text": [
      "Standard Deviation of Power Availability (2019-2020): 4150.602560577562\n"
     ]
    }
   ],
   "source": [
    "std_avail_power_2019_2020 = df[df['Year'] == '2019-20']['Availability_Of_Power_Net_Crore_Units'].std()\n",
    "print(\"Standard Deviation of Power Availability (2019-2020):\", std_avail_power_2019_2020)"
   ]
  },
  {
   "cell_type": "code",
   "execution_count": 47,
   "id": "bb0acbc6",
   "metadata": {},
   "outputs": [
    {
     "name": "stdout",
     "output_type": "stream",
     "text": [
      "Standard Deviation Installed Capacity for UP (2006-2016): 3225.8229337643443\n"
     ]
    }
   ],
   "source": [
    "up_data = df[(df['State/Union Territory'] == 'Uttar Pradesh') & (df['Year'].between('2006', '2016'))]\n",
    "std_installed_capacity_up = up_data['Installed_Power_Capacity_MegaWatt'].std()\n",
    "print(\"Standard Deviation Installed Capacity for UP (2006-2016):\", std_installed_capacity_up)\n"
   ]
  },
  {
   "cell_type": "code",
   "execution_count": 48,
   "id": "e6a3798b",
   "metadata": {},
   "outputs": [],
   "source": [
    "import math\n",
    "\n",
    "def my_std(data):\n",
    "    mean_val = my_mean(data)\n",
    "    variance = sum((x - mean_val) ** 2 for x in data) / len(data)\n",
    "    return math.sqrt(variance)"
   ]
  },
  {
   "cell_type": "code",
   "execution_count": 49,
   "id": "4ccb20b9",
   "metadata": {},
   "outputs": [
    {
     "name": "stdout",
     "output_type": "stream",
     "text": [
      "Custom Standard Deviation Power Per Capita (2016-2017): 3107.1073844325147\n"
     ]
    }
   ],
   "source": [
    "data_2016_2017 = df[df['Year'] == '2016-17']['Availability_Of_Power_Per_Capita_kiloWatt-Hour'].dropna()\n",
    "std_custom = my_std(data_2016_2017)\n",
    "print(\"Custom Standard Deviation Power Per Capita (2016-2017):\", std_custom)"
   ]
  },
  {
   "cell_type": "code",
   "execution_count": 50,
   "id": "5d7aa6ba",
   "metadata": {},
   "outputs": [
    {
     "name": "stdout",
     "output_type": "stream",
     "text": [
      "Custom Standard Deviation Power Requirement for Rajasthan (2007-2013): 675.4489042275679\n"
     ]
    }
   ],
   "source": [
    "rajasthan_data = df[(df['State/Union Territory'] == 'Rajasthan') & (df['Year'].between('2007', '2013'))]\n",
    "std_power_req_rj = my_std(rajasthan_data['Power_Requirement_Net_Crore_Units'].dropna())\n",
    "print(\"Custom Standard Deviation Power Requirement for Rajasthan (2007-2013):\", std_power_req_rj)"
   ]
  },
  {
   "cell_type": "code",
   "execution_count": 51,
   "id": "00dc20d9",
   "metadata": {},
   "outputs": [
    {
     "name": "stdout",
     "output_type": "stream",
     "text": [
      "Variance of Power Requirement (2020-2021): 16809599.90714286\n"
     ]
    }
   ],
   "source": [
    "var_power_req_2020_2021 = df[df['Year'] == '2020-21']['Power_Requirement_Net_Crore_Units'].var()\n",
    "print(\"Variance of Power Requirement (2020-2021):\", var_power_req_2020_2021)"
   ]
  },
  {
   "cell_type": "code",
   "execution_count": 52,
   "id": "6baddfe9",
   "metadata": {},
   "outputs": [
    {
     "name": "stdout",
     "output_type": "stream",
     "text": [
      "Variance Installed Capacity for Kerala (2005-2015): 47175.34444444444\n"
     ]
    }
   ],
   "source": [
    "kerala_data = df[(df['State/Union Territory'] == 'Kerala') & (df['Year'].between('2005', '2015'))]\n",
    "var_installed_capacity_kerala = kerala_data['Installed_Power_Capacity_MegaWatt'].var()\n",
    "print(\"Variance Installed Capacity for Kerala (2005-2015):\", var_installed_capacity_kerala)"
   ]
  },
  {
   "cell_type": "code",
   "execution_count": 53,
   "id": "e867d8ee",
   "metadata": {},
   "outputs": [],
   "source": [
    "def my_variance(data):\n",
    "    mean_val = my_mean(data)\n",
    "    return sum((x - mean_val) ** 2 for x in data) / len(data)\n"
   ]
  },
  {
   "cell_type": "code",
   "execution_count": 54,
   "id": "20556110",
   "metadata": {},
   "outputs": [
    {
     "name": "stdout",
     "output_type": "stream",
     "text": [
      "Custom Variance Power Availability (2010-2011): 7471725.500000002\n"
     ]
    }
   ],
   "source": [
    "data_2010_2011 = df[df['Year'] == '2010-11']['Availability_Of_Power_Net_Crore_Units'].dropna()\n",
    "var_custom = my_variance(data_2010_2011)\n",
    "print(\"Custom Variance Power Availability (2010-2011):\", var_custom)"
   ]
  },
  {
   "cell_type": "code",
   "execution_count": 55,
   "id": "65b2c41e",
   "metadata": {},
   "outputs": [
    {
     "name": "stdout",
     "output_type": "stream",
     "text": [
      "Custom Variance Power Per Capita for Odisha (2012-2020): 3207.2923437500003\n"
     ]
    }
   ],
   "source": [
    "odisha_data = df[(df['State/Union Territory'] == 'Odisha') & (df['Year'].between('2012', '2020'))]\n",
    "var_avail_power_odisha = my_variance(odisha_data['Availability_Of_Power_Per_Capita_kiloWatt-Hour'].dropna())\n",
    "print(\"Custom Variance Power Per Capita for Odisha (2012-2020):\", var_avail_power_odisha)"
   ]
  },
  {
   "cell_type": "code",
   "execution_count": 56,
   "id": "67519881",
   "metadata": {},
   "outputs": [
    {
     "name": "stdout",
     "output_type": "stream",
     "text": [
      "IQR Power Requirement (2019-2020): 5693.25\n"
     ]
    }
   ],
   "source": [
    "q1 = df[df['Year'] == '2019-20']['Power_Requirement_Net_Crore_Units'].quantile(0.25)\n",
    "q3 = df[df['Year'] == '2019-20']['Power_Requirement_Net_Crore_Units'].quantile(0.75)\n",
    "iqr_power_req_2019_2020 = q3 - q1\n",
    "print(\"IQR Power Requirement (2019-2020):\", iqr_power_req_2019_2020)"
   ]
  },
  {
   "cell_type": "code",
   "execution_count": 57,
   "id": "125ea811",
   "metadata": {},
   "outputs": [
    {
     "name": "stdout",
     "output_type": "stream",
     "text": [
      "IQR Power Per Capita for Bihar (2010-2020): 119.85\n"
     ]
    }
   ],
   "source": [
    "bihar_data = df[(df['State/Union Territory'] == 'Bihar') & (df['Year'].between('2010', '2020'))]\n",
    "q1_bihar = bihar_data['Availability_Of_Power_Per_Capita_kiloWatt-Hour'].quantile(0.25)\n",
    "q3_bihar = bihar_data['Availability_Of_Power_Per_Capita_kiloWatt-Hour'].quantile(0.75)\n",
    "iqr_avail_power_bihar = q3_bihar - q1_bihar\n",
    "print(\"IQR Power Per Capita for Bihar (2010-2020):\", iqr_avail_power_bihar)"
   ]
  },
  {
   "cell_type": "code",
   "execution_count": 62,
   "id": "9e2358d8",
   "metadata": {},
   "outputs": [],
   "source": [
    "def my_iqr(data):\n",
    "    sorted_data = sorted(data)\n",
    "    q1 = sorted_data[int(len(sorted_data) * 0.25)]\n",
    "    q3 = sorted_data[int(len(sorted_data) * 0.75)]\n",
    "    return q3 - q1"
   ]
  },
  {
   "cell_type": "code",
   "execution_count": 63,
   "id": "b452dbac",
   "metadata": {},
   "outputs": [
    {
     "name": "stdout",
     "output_type": "stream",
     "text": [
      "Custom IQR Installed Power Capacity (2015-2016): 14492.0\n"
     ]
    }
   ],
   "source": [
    "data_2015_2016_iqr = df[df['Year'] == '2015-16']['Installed_Power_Capacity_MegaWatt'].dropna()\n",
    "iqr_custom = my_iqr(data_2015_2016_iqr)\n",
    "print(\"Custom IQR Installed Power Capacity (2015-2016):\", iqr_custom)"
   ]
  },
  {
   "cell_type": "code",
   "execution_count": 65,
   "id": "682df8f7",
   "metadata": {},
   "outputs": [
    {
     "name": "stdout",
     "output_type": "stream",
     "text": [
      "Custom IQR Power Availability for Madhya Pradesh (2008-2018): 2374.0\n"
     ]
    }
   ],
   "source": [
    "mp_data = df[(df['State/Union Territory'] == 'Madhya Pradesh') & (df['Year'].between('2008', '2018'))]\n",
    "iqr_avail_power_mp = my_iqr(mp_data['Availability_Of_Power_Net_Crore_Units'].dropna())\n",
    "print(\"Custom IQR Power Availability for Madhya Pradesh (2008-2018):\", iqr_avail_power_mp)"
   ]
  },
  {
   "cell_type": "code",
   "execution_count": 66,
   "id": "b168f711",
   "metadata": {},
   "outputs": [
    {
     "data": {
      "image/png": "[encoded data removed]",
      "text/plain": [
       "<Figure size 640x480 with 1 Axes>"
      ]
     },
     "metadata": {},
     "output_type": "display_data"
    }
   ],
   "source": [
    "import seaborn as sns\n",
    "import matplotlib.pyplot as plt\n",
    "sns.boxplot(data=df[df['Year'] == '2020-21'], x='Power_Requirement_Net_Crore_Units')\n",
    "plt.title('Power Requirement Net Crore Units (2020-2021)')\n",
    "plt.show()"
   ]
  },
  {
   "cell_type": "code",
   "execution_count": 67,
   "id": "cb860014",
   "metadata": {},
   "outputs": [
    {
     "data": {
      "image/png": "[encoded data removed]",
      "text/plain": [
       "<Figure size 640x480 with 1 Axes>"
      ]
     },
     "metadata": {},
     "output_type": "display_data"
    }
   ],
   "source": [
    "top_5_states = df.groupby('State/Union Territory')['Availability_Of_Power_Per_Capita_kiloWatt-Hour'].mean().nlargest(5).index\n",
    "top_5_data = df[df['State/Union Territory'].isin(top_5_states)]\n",
    "sns.boxplot(x='State/Union Territory', y='Availability_Of_Power_Per_Capita_kiloWatt-Hour', data=top_5_data)\n",
    "plt.title('Availability Of Power Per Capita (Top 5 States, 2004-2021)')\n",
    "plt.show()"
   ]
  },
  {
   "cell_type": "code",
   "execution_count": 68,
   "id": "ed60789c",
   "metadata": {},
   "outputs": [
    {
     "data": {
      "image/png": "[encoded data removed]",
      "text/plain": [
       "<Figure size 640x480 with 1 Axes>"
      ]
     },
     "metadata": {},
     "output_type": "display_data"
    }
   ],
   "source": [
    "gujarat_data = df[df['State/Union Territory'] == 'Gujarat']\n",
    "sns.boxplot(x='Year', y='Installed_Power_Capacity_MegaWatt', data=gujarat_data)\n",
    "plt.title('Installed Power Capacity for Gujarat (2004-2021)')\n",
    "plt.xticks(rotation=90)\n",
    "plt.show()"
   ]
  }
 ],
 "metadata": {
  "kernelspec": {
   "display_name": "Python 3 (ipykernel)",
   "language": "python",
   "name": "python3"
  },
  "language_info": {
   "codemirror_mode": {
    "name": "ipython",
    "version": 3
   },
   "file_extension": ".py",
   "mimetype": "text/x-python",
   "name": "python",
   "nbconvert_exporter": "python",
   "pygments_lexer": "ipython3",
   "version": "3.11.5"
  }
 },
 "nbformat": 4,
 "nbformat_minor": 5
}
