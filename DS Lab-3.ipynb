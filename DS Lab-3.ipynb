{
 "cells": [
  {
   "cell_type": "markdown",
   "id": "309a6fee",
   "metadata": {},
   "source": [
    "## Q.1"
   ]
  },
  {
   "cell_type": "code",
   "execution_count": 25,
   "id": "8dee7aa5",
   "metadata": {},
   "outputs": [
    {
     "name": "stdout",
     "output_type": "stream",
     "text": [
      "The total cost is 123.50 dollars, and the tax is 8.75.\"\n",
      "The total cost is $$$ dollars, and the tax is $$$\"\n"
     ]
    }
   ],
   "source": [
    "def func_1(text):\n",
    "    result = \"\"\n",
    "    check = False\n",
    "    for char in text:\n",
    "        if char.isdigit() or char == \".\":\n",
    "            if not check:\n",
    "                result += \"$$$\"\n",
    "                check = True\n",
    "        else:\n",
    "            if check:\n",
    "                check = False\n",
    "            result += char\n",
    "    return result\n",
    "text = input()\n",
    "out = func_1(text)\n",
    "print(out)"
   ]
  },
  {
   "cell_type": "markdown",
   "id": "fb7ce823",
   "metadata": {},
   "source": [
    "## Q.2"
   ]
  },
  {
   "cell_type": "code",
   "execution_count": 6,
   "id": "15c55a4b",
   "metadata": {},
   "outputs": [
    {
     "name": "stdout",
     "output_type": "stream",
     "text": [
      "This is a sample sentence for testing the function\n",
      "['This', 'sample', 'sentence', 'testing', 'function']\n"
     ]
    }
   ],
   "source": [
    "def func_2(string):\n",
    "    stop_words= [\"and\", \"is\",  \"a\", \"for\", \"to\", \"in\", \"the\"]\n",
    "    ls=[]\n",
    "    for word in string.split():\n",
    "        if word not in stop_words:\n",
    "            ls.append(word)\n",
    "    return ls\n",
    "text=input()\n",
    "st=func_2(text)\n",
    "print(st)"
   ]
  },
  {
   "cell_type": "code",
   "execution_count": 7,
   "id": "629b841b",
   "metadata": {},
   "outputs": [
    {
     "name": "stdout",
     "output_type": "stream",
     "text": [
      "The code is 09876\n"
     ]
    }
   ],
   "source": [
    "def func_3(text):\n",
    "    ls = []\n",
    "    for char in text:\n",
    "        if char.isdigit():\n",
    "            dig = (int(char) + 1) % 10\n",
    "            ls.append(str(dig))\n",
    "        else:\n",
    "            ls.append(char)\n",
    "    return ''.join(ls)\n",
    "\n",
    "text = \"The code is 98765\"\n",
    "out = func_3(text)\n",
    "print(out)"
   ]
  },
  {
   "cell_type": "markdown",
   "id": "6505345a",
   "metadata": {},
   "source": [
    "## Q.4"
   ]
  },
  {
   "cell_type": "code",
   "execution_count": 6,
   "id": "ed920fe8",
   "metadata": {},
   "outputs": [
    {
     "name": "stdout",
     "output_type": "stream",
     "text": [
      "Please contact us at support@yahoo.com or admin@gmail.com for more information\n",
      "Please contact us at XXX or XXX for more information\n"
     ]
    }
   ],
   "source": [
    "import re\n",
    "\n",
    "ls = []\n",
    "email = input()\n",
    "for word in email.split():\n",
    "    if re.search(r\"gmail\\.com$\", word) or re.search(r\"yahoo\\.com$\", word):\n",
    "        ls.append(\"XXX\")\n",
    "    else:\n",
    "        ls.append(word)\n",
    "s = ' '.join(ls)\n",
    "print(s)"
   ]
  },
  {
   "cell_type": "markdown",
   "id": "4325ef85",
   "metadata": {},
   "source": [
    "## ChatGPT Q.1"
   ]
  },
  {
   "cell_type": "code",
   "execution_count": 18,
   "id": "4baa1d11",
   "metadata": {},
   "outputs": [
    {
     "name": "stdout",
     "output_type": "stream",
     "text": [
      "The total cost is $$$ dollars, and the tax is $$$.\n"
     ]
    }
   ],
   "source": [
    "import re\n",
    "\n",
    "def replace_numbers_with_dollar_sign(text):\n",
    "    # Use regular expression to find all numbers (both integers and floating-point)\n",
    "    modified_text = re.sub(r'\\b\\d+(\\.\\d+)?\\b', '$$$', text)\n",
    "    return modified_text\n",
    "\n",
    "# Example usage:\n",
    "input_text = \"The total cost is 123.50 dollars, and the tax is 8.75.\"\n",
    "output_text = replace_numbers_with_dollar_sign(input_text)\n",
    "print(output_text)  # Output: \"The total cost is $$$ dollars, and the tax is $$$.\"\n"
   ]
  },
  {
   "cell_type": "markdown",
   "id": "9298c705",
   "metadata": {},
   "source": [
    "## ChatGPT Q.2"
   ]
  },
  {
   "cell_type": "code",
   "execution_count": 20,
   "id": "d95e4f63",
   "metadata": {},
   "outputs": [
    {
     "name": "stdout",
     "output_type": "stream",
     "text": [
      "['This', 'sample', 'sentence', 'testing', 'function.']\n"
     ]
    }
   ],
   "source": [
    "def remove_stop_words(text):\n",
    "    # Predefined list of stop words\n",
    "    stop_words = [\"and\", \"is\", \"a\", \"for\", \"to\", \"in\", \"the\"]\n",
    "\n",
    "    # Split the text into individual words\n",
    "    words = text.split()\n",
    "\n",
    "    # Filter out the stop words\n",
    "    filtered_words = [word for word in words if word.lower() not in stop_words]\n",
    "\n",
    "    return filtered_words\n",
    "\n",
    "# Example usage:\n",
    "input_text = \"This is a sample sentence for testing the function.\"\n",
    "output_words = remove_stop_words(input_text)\n",
    "print(output_words)  # Output: [\"This\", \"sample\", \"sentence\", \"testing\", \"function\"]\n"
   ]
  },
  {
   "cell_type": "markdown",
   "id": "1bb381cd",
   "metadata": {},
   "source": [
    "## ChatGPT Q.3"
   ]
  },
  {
   "cell_type": "code",
   "execution_count": 21,
   "id": "30a9824a",
   "metadata": {},
   "outputs": [
    {
     "name": "stdout",
     "output_type": "stream",
     "text": [
      "The code is 09876\n"
     ]
    }
   ],
   "source": [
    "def scramble_numbers(text):\n",
    "    # Function to scramble a single digit\n",
    "    def scramble_digit(digit):\n",
    "        return str((int(digit) + 1) % 10)\n",
    "    \n",
    "    # Iterate over each character in the text and scramble if it's a digit\n",
    "    scrambled_text = ''.join(scramble_digit(char) if char.isdigit() else char for char in text)\n",
    "    \n",
    "    return scrambled_text\n",
    "\n",
    "# Example usage:\n",
    "input_text = \"The code is 98765\"\n",
    "output_text = scramble_numbers(input_text)\n",
    "print(output_text)  # Output: \"The code is 09876\""
   ]
  },
  {
   "cell_type": "markdown",
   "id": "07336126",
   "metadata": {},
   "source": [
    "## ChatGPT Q.4"
   ]
  },
  {
   "cell_type": "code",
   "execution_count": 22,
   "id": "d6cdd2f6",
   "metadata": {},
   "outputs": [
    {
     "name": "stdout",
     "output_type": "stream",
     "text": [
      "Please contact us at XXX or XXX for more information.\n"
     ]
    }
   ],
   "source": [
    "import re\n",
    "\n",
    "def mask_email_addresses(text):\n",
    "    # Regular expression to match email addresses from yahoo.com or gmail.com\n",
    "    email_pattern = r'\\b[A-Za-z0-9._%+-]+@(yahoo\\.com|gmail\\.com)\\b'\n",
    "    \n",
    "    # Replace all matching email addresses with 'XXX'\n",
    "    modified_text = re.sub(email_pattern, 'XXX', text)\n",
    "    \n",
    "    return modified_text\n",
    "\n",
    "# Example usage:\n",
    "text = \"Please contact us at support@yahoo.com or admin@gmail.com for more information.\"\n",
    "output_text = mask_email_addresses(text)\n",
    "print(output_text)  # Output: \"Please contact us at XXX or XXX for more information.\""
   ]
  }
 ],
 "metadata": {
  "kernelspec": {
   "display_name": "Python 3 (ipykernel)",
   "language": "python",
   "name": "python3"
  },
  "language_info": {
   "codemirror_mode": {
    "name": "ipython",
    "version": 3
   },
   "file_extension": ".py",
   "mimetype": "text/x-python",
   "name": "python",
   "nbconvert_exporter": "python",
   "pygments_lexer": "ipython3",
   "version": "3.11.5"
  }
 },
 "nbformat": 4,
 "nbformat_minor": 5
}
