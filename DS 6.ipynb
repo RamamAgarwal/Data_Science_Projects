{
 "cells": [
  {
   "cell_type": "code",
   "execution_count": 10,
   "id": "7dcd4a9c",
   "metadata": {},
   "outputs": [],
   "source": [
    "import pandas as pd\n",
    "import numpy as np\n",
    "import matplotlib.pyplot as plt\n",
    "import seaborn as sns\n",
    "import scipy.stats as stats"
   ]
  },
  {
   "cell_type": "markdown",
   "id": "e464163c",
   "metadata": {},
   "source": [
    "## Task-1"
   ]
  },
  {
   "cell_type": "code",
   "execution_count": 11,
   "id": "0645bf18",
   "metadata": {},
   "outputs": [
    {
     "data": {
      "text/plain": [
       "<Axes: ylabel='Count'>"
      ]
     },
     "execution_count": 11,
     "metadata": {},
     "output_type": "execute_result"
    },
    {
     "data": {
      "image/png": "[encoded data removed]",
      "text/plain": [
       "<Figure size 1800x500 with 1 Axes>"
      ]
     },
     "metadata": {},
     "output_type": "display_data"
    }
   ],
   "source": [
    "# Generate Normal Distribution\n",
    "np.random.seed(0) # Initialize the random distibution generator\n",
    "normal_dist = np.random.randn(10000)\n",
    "normal_df = pd.DataFrame({'value' : normal_dist})\n",
    "# Normal Distribution as a Bell Curve\n",
    "plt.figure(figsize=(18,5))\n",
    "sns.histplot(normal_df, bins= 80) # More the number of bins, more would be the accuracy"
   ]
  },
  {
   "cell_type": "code",
   "execution_count": 35,
   "id": "bb5c8b1f",
   "metadata": {},
   "outputs": [
    {
     "name": "stdout",
     "output_type": "stream",
     "text": [
      "0.9876059497081746\n"
     ]
    }
   ],
   "source": [
    "standard_deviation = normal_df['value'].std()\n",
    "print(standard_deviation)"
   ]
  },
  {
   "cell_type": "code",
   "execution_count": 37,
   "id": "74ff256b",
   "metadata": {},
   "outputs": [
    {
     "name": "stdout",
     "output_type": "stream",
     "text": [
      "-0.018433720158265818\n"
     ]
    }
   ],
   "source": [
    "first_moment = normal_df['value'].mean()\n",
    "print(first_moment)"
   ]
  },
  {
   "cell_type": "code",
   "execution_count": 39,
   "id": "d0a10fab",
   "metadata": {},
   "outputs": [
    {
     "name": "stdout",
     "output_type": "stream",
     "text": [
      "0.9753655118989856\n"
     ]
    }
   ],
   "source": [
    "second_moment = normal_df['value'].var()\n",
    "print(second_moment)"
   ]
  },
  {
   "cell_type": "code",
   "execution_count": 40,
   "id": "1cf217e1",
   "metadata": {},
   "outputs": [
    {
     "name": "stdout",
     "output_type": "stream",
     "text": [
      "0.026638612696803083\n",
      "0.026634616738395577\n"
     ]
    }
   ],
   "source": [
    "third_moment_1 = normal_df['value'].skew()\n",
    "print(third_moment_1)\n",
    "third_moment_2 = stats.skew(normal_df['value'])\n",
    "print(third_moment_2)\n",
    "#The difference in values of both functions is dude to bias correction applied in stats.skew(dataframe)"
   ]
  },
  {
   "cell_type": "code",
   "execution_count": 32,
   "id": "54adf195",
   "metadata": {},
   "outputs": [
    {
     "name": "stdout",
     "output_type": "stream",
     "text": [
      "-0.030369753700771884\n",
      "-0.03095451095565238\n"
     ]
    }
   ],
   "source": [
    "fourth_moment_1 = normal_df['value'].kurtosis()\n",
    "print(fourth_moment_1)\n",
    "fourth_moment_2 = stats.kurtosis(normal_df['value'])\n",
    "print(fourth_moment_2)"
   ]
  },
  {
   "cell_type": "markdown",
   "id": "f9a15b0f",
   "metadata": {},
   "source": [
    "## Task-2"
   ]
  },
  {
   "cell_type": "code",
   "execution_count": 49,
   "id": "8108ef6b",
   "metadata": {},
   "outputs": [
    {
     "data": {
      "text/html": [
       "<div>\n",
       "<style scoped>\n",
       "    .dataframe tbody tr th:only-of-type {\n",
       "        vertical-align: middle;\n",
       "    }\n",
       "\n",
       "    .dataframe tbody tr th {\n",
       "        vertical-align: top;\n",
       "    }\n",
       "\n",
       "    .dataframe thead th {\n",
       "        text-align: right;\n",
       "    }\n",
       "</style>\n",
       "<table border=\"1\" class=\"dataframe\">\n",
       "  <thead>\n",
       "    <tr style=\"text-align: right;\">\n",
       "      <th></th>\n",
       "      <th>Number</th>\n",
       "      <th>City</th>\n",
       "      <th>Gender</th>\n",
       "      <th>Age</th>\n",
       "      <th>Income</th>\n",
       "      <th>Illness</th>\n",
       "    </tr>\n",
       "  </thead>\n",
       "  <tbody>\n",
       "    <tr>\n",
       "      <th>0</th>\n",
       "      <td>1</td>\n",
       "      <td>Dallas</td>\n",
       "      <td>Male</td>\n",
       "      <td>41</td>\n",
       "      <td>40367.0</td>\n",
       "      <td>No</td>\n",
       "    </tr>\n",
       "    <tr>\n",
       "      <th>1</th>\n",
       "      <td>2</td>\n",
       "      <td>Dallas</td>\n",
       "      <td>Male</td>\n",
       "      <td>54</td>\n",
       "      <td>45084.0</td>\n",
       "      <td>No</td>\n",
       "    </tr>\n",
       "    <tr>\n",
       "      <th>2</th>\n",
       "      <td>3</td>\n",
       "      <td>Dallas</td>\n",
       "      <td>Male</td>\n",
       "      <td>42</td>\n",
       "      <td>52483.0</td>\n",
       "      <td>No</td>\n",
       "    </tr>\n",
       "    <tr>\n",
       "      <th>3</th>\n",
       "      <td>4</td>\n",
       "      <td>Dallas</td>\n",
       "      <td>Male</td>\n",
       "      <td>40</td>\n",
       "      <td>40941.0</td>\n",
       "      <td>No</td>\n",
       "    </tr>\n",
       "    <tr>\n",
       "      <th>4</th>\n",
       "      <td>5</td>\n",
       "      <td>Dallas</td>\n",
       "      <td>Male</td>\n",
       "      <td>46</td>\n",
       "      <td>50289.0</td>\n",
       "      <td>No</td>\n",
       "    </tr>\n",
       "  </tbody>\n",
       "</table>\n",
       "</div>"
      ],
      "text/plain": [
       "   Number    City Gender  Age   Income Illness\n",
       "0       1  Dallas   Male   41  40367.0      No\n",
       "1       2  Dallas   Male   54  45084.0      No\n",
       "2       3  Dallas   Male   42  52483.0      No\n",
       "3       4  Dallas   Male   40  40941.0      No\n",
       "4       5  Dallas   Male   46  50289.0      No"
      ]
     },
     "execution_count": 49,
     "metadata": {},
     "output_type": "execute_result"
    }
   ],
   "source": [
    "df = pd.read_csv('stats_dataset.csv')\n",
    "age_income = df[['Age', 'Income']]\n",
    "df.head()"
   ]
  },
  {
   "cell_type": "code",
   "execution_count": 46,
   "id": "d02bdcf8",
   "metadata": {},
   "outputs": [
    {
     "name": "stdout",
     "output_type": "stream",
     "text": [
      "Covariance between 'Age' and 'Income':\n",
      "                Age        Income\n",
      "Age     133.922426 -3.811863e+02\n",
      "Income -381.186341  6.244752e+08\n"
     ]
    }
   ],
   "source": [
    "covariance = age_income.cov()\n",
    "print(\"Covariance between 'Age' and 'Income':\\n\", covariance)"
   ]
  },
  {
   "cell_type": "code",
   "execution_count": 45,
   "id": "6466127e",
   "metadata": {},
   "outputs": [
    {
     "name": "stdout",
     "output_type": "stream",
     "text": [
      "Correlation between 'Age' and 'Income':\n",
      "              Age    Income\n",
      "Age     1.000000 -0.001318\n",
      "Income -0.001318  1.000000\n"
     ]
    }
   ],
   "source": [
    "correlation = age_income.corr(method='pearson')\n",
    "print(\"Correlation between 'Age' and 'Income':\\n\", correlation)"
   ]
  },
  {
   "cell_type": "markdown",
   "id": "9d8a5cfd",
   "metadata": {},
   "source": [
    "## Task-3"
   ]
  },
  {
   "cell_type": "code",
   "execution_count": 56,
   "id": "06b0c906",
   "metadata": {},
   "outputs": [
    {
     "name": "stdout",
     "output_type": "stream",
     "text": [
      "Area of both tails for the corresponding x value for left tail area and upper area:  1.959963984540054\n",
      "Margin of Error:  0.721640842980081\n",
      "Confidence Interval:  (63.68635915701992, 65.12964084298008)\n"
     ]
    }
   ],
   "source": [
    "sample_mean = 64.408\n",
    "sample_std = 2.05\n",
    "sample_size = 31\n",
    "confidence_level = 0.95\n",
    "\n",
    "alpha = 1 - confidence_level\n",
    "z_critical = stats.norm.ppf(1-alpha / 2)\n",
    "\n",
    "margin_of_error = z_critical * (sample_std / np.sqrt(sample_size))\n",
    "\n",
    "lower_bound = sample_mean - margin_of_error\n",
    "upper_bound = sample_mean + margin_of_error\n",
    "\n",
    "print(\"Area of both tails for the corresponding x value for left tail area and upper area: \", z_critical)\n",
    "print(\"Margin of Error: \", margin_of_error)\n",
    "print(\"Confidence Interval: \", (lower_bound, upper_bound))"
   ]
  },
  {
   "cell_type": "markdown",
   "id": "3450a84e",
   "metadata": {},
   "source": [
    "## Task-4"
   ]
  },
  {
   "cell_type": "markdown",
   "id": "940ec776",
   "metadata": {},
   "source": [
    "## One-tailed test"
   ]
  },
  {
   "cell_type": "code",
   "execution_count": 93,
   "id": "81c2534a",
   "metadata": {},
   "outputs": [
    {
     "name": "stdout",
     "output_type": "stream",
     "text": [
      "P-value: 1.6883155939436834e-17  Z-score: -8.432740427115679\n",
      "Experimental drug reduces the mean recovery time having a positive impact\n"
     ]
    }
   ],
   "source": [
    "population_mean = 18\n",
    "sample_mean = 16\n",
    "population_std = 1.5\n",
    "sample_size = 40\n",
    "alpha = 0.05\n",
    "\n",
    "z_score = (sample_mean - population_mean) / (population_std / np.sqrt(sample_size))\n",
    "\n",
    "p_value = stats.norm.cdf(z_score)\n",
    "\n",
    "print(\"P-value:\",p_value,\" Z-score:\",z_score)\n",
    "\n",
    "if p_value < alpha:\n",
    "    print(\"Experimental drug reduces the mean recovery time having a positive impact\")\n",
    "else:\n",
    "    print(\"Experimental drug has no effect\")"
   ]
  },
  {
   "cell_type": "markdown",
   "id": "88057c67",
   "metadata": {},
   "source": [
    "## Two-tailed test"
   ]
  },
  {
   "cell_type": "code",
   "execution_count": 89,
   "id": "546d3365",
   "metadata": {},
   "outputs": [
    {
     "name": "stdout",
     "output_type": "stream",
     "text": [
      "P-value:  0.0  Z-score:  -8.432740427115679\n",
      "Experimental drug reduces the mean recovery time having a positive impact\n"
     ]
    }
   ],
   "source": [
    "p_value_two_tailed = 2 * (1 - stats.norm.cdf(abs(z_score)))\n",
    "\n",
    "print(\"P-value: \",p_value_two_tailed,\" Z-score: \",z_score)\n",
    "\n",
    "if p_value < alpha:\n",
    "    print(\"Experimental drug reduces the mean recovery time having a positive impact\")\n",
    "else:\n",
    "    print(\"Experimental drug has no effect\")"
   ]
  }
 ],
 "metadata": {
  "kernelspec": {
   "display_name": "Python 3 (ipykernel)",
   "language": "python",
   "name": "python3"
  },
  "language_info": {
   "codemirror_mode": {
    "name": "ipython",
    "version": 3
   },
   "file_extension": ".py",
   "mimetype": "text/x-python",
   "name": "python",
   "nbconvert_exporter": "python",
   "pygments_lexer": "ipython3",
   "version": "3.11.5"
  }
 },
 "nbformat": 4,
 "nbformat_minor": 5
}
